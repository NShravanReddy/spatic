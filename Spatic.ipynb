{
 "cells": [
  {
   "cell_type": "markdown",
   "id": "d83fa71e",
   "metadata": {},
   "source": [
    "  # Identifying entries "
   ]
  },
  {
   "cell_type": "markdown",
   "id": "0b0d9150",
   "metadata": {},
   "source": [
    "###  1.Import the necessary packages"
   ]
  },
  {
   "cell_type": "code",
   "execution_count": 1,
   "id": "d3ef75f1",
   "metadata": {},
   "outputs": [],
   "source": [
    "import numpy as np  #numpy are imported\n",
    "import pandas as pd\n",
    "from geopy.distance import distance\n",
    "from math import radians, sin, cos, sqrt, asin, atan2"
   ]
  },
  {
   "cell_type": "markdown",
   "id": "c176399a",
   "metadata": {},
   "source": [
    "we are going to read the data from the given dataset file. "
   ]
  },
  {
   "cell_type": "code",
   "execution_count": 2,
   "id": "e95dab35",
   "metadata": {},
   "outputs": [
    {
     "data": {
      "text/html": [
       "<div>\n",
       "<style scoped>\n",
       "    .dataframe tbody tr th:only-of-type {\n",
       "        vertical-align: middle;\n",
       "    }\n",
       "\n",
       "    .dataframe tbody tr th {\n",
       "        vertical-align: top;\n",
       "    }\n",
       "\n",
       "    .dataframe thead th {\n",
       "        text-align: right;\n",
       "    }\n",
       "</style>\n",
       "<table border=\"1\" class=\"dataframe\">\n",
       "  <thead>\n",
       "    <tr style=\"text-align: right;\">\n",
       "      <th></th>\n",
       "      <th>name</th>\n",
       "      <th>latitude</th>\n",
       "      <th>longitude</th>\n",
       "    </tr>\n",
       "  </thead>\n",
       "  <tbody>\n",
       "    <tr>\n",
       "      <th>0</th>\n",
       "      <td>kbyJYJzqEVkEmpc</td>\n",
       "      <td>13.022860</td>\n",
       "      <td>77.688911</td>\n",
       "    </tr>\n",
       "    <tr>\n",
       "      <th>1</th>\n",
       "      <td>qbgufTPzZEkxNHV</td>\n",
       "      <td>13.093675</td>\n",
       "      <td>77.702779</td>\n",
       "    </tr>\n",
       "    <tr>\n",
       "      <th>2</th>\n",
       "      <td>XWIXkuyDacCmsaE</td>\n",
       "      <td>12.902879</td>\n",
       "      <td>77.633207</td>\n",
       "    </tr>\n",
       "    <tr>\n",
       "      <th>3</th>\n",
       "      <td>PWMPzEhgQSIJFtLl</td>\n",
       "      <td>12.864532</td>\n",
       "      <td>77.731435</td>\n",
       "    </tr>\n",
       "    <tr>\n",
       "      <th>4</th>\n",
       "      <td>PWMPzEhgQSIJFtL</td>\n",
       "      <td>12.865321</td>\n",
       "      <td>77.731473</td>\n",
       "    </tr>\n",
       "    <tr>\n",
       "      <th>...</th>\n",
       "      <td>...</td>\n",
       "      <td>...</td>\n",
       "      <td>...</td>\n",
       "    </tr>\n",
       "    <tr>\n",
       "      <th>11809</th>\n",
       "      <td>OtytDvqWIjeFdAt</td>\n",
       "      <td>12.864681</td>\n",
       "      <td>77.561012</td>\n",
       "    </tr>\n",
       "    <tr>\n",
       "      <th>11810</th>\n",
       "      <td>PGHxYVTKBPvJzRcr</td>\n",
       "      <td>12.878795</td>\n",
       "      <td>77.549211</td>\n",
       "    </tr>\n",
       "    <tr>\n",
       "      <th>11811</th>\n",
       "      <td>PGHxYVTKBPvJzRc</td>\n",
       "      <td>12.879561</td>\n",
       "      <td>77.549147</td>\n",
       "    </tr>\n",
       "    <tr>\n",
       "      <th>11812</th>\n",
       "      <td>KlOFLLHNAvTQOkU</td>\n",
       "      <td>13.061351</td>\n",
       "      <td>77.661640</td>\n",
       "    </tr>\n",
       "    <tr>\n",
       "      <th>11813</th>\n",
       "      <td>BKEsZzrJiKhKIae</td>\n",
       "      <td>13.019981</td>\n",
       "      <td>77.679988</td>\n",
       "    </tr>\n",
       "  </tbody>\n",
       "</table>\n",
       "<p>11814 rows × 3 columns</p>\n",
       "</div>"
      ],
      "text/plain": [
       "                   name   latitude  longitude\n",
       "0       kbyJYJzqEVkEmpc  13.022860  77.688911\n",
       "1       qbgufTPzZEkxNHV  13.093675  77.702779\n",
       "2       XWIXkuyDacCmsaE  12.902879  77.633207\n",
       "3      PWMPzEhgQSIJFtLl  12.864532  77.731435\n",
       "4       PWMPzEhgQSIJFtL  12.865321  77.731473\n",
       "...                 ...        ...        ...\n",
       "11809   OtytDvqWIjeFdAt  12.864681  77.561012\n",
       "11810  PGHxYVTKBPvJzRcr  12.878795  77.549211\n",
       "11811   PGHxYVTKBPvJzRc  12.879561  77.549147\n",
       "11812   KlOFLLHNAvTQOkU  13.061351  77.661640\n",
       "11813   BKEsZzrJiKhKIae  13.019981  77.679988\n",
       "\n",
       "[11814 rows x 3 columns]"
      ]
     },
     "execution_count": 2,
     "metadata": {},
     "output_type": "execute_result"
    }
   ],
   "source": [
    "df=pd.read_csv(\"C:\\\\Users\\\\nshra\\\\Downloads\\\\assignment_data.csv\")\n",
    "df"
   ]
  },
  {
   "cell_type": "code",
   "execution_count": 3,
   "id": "a87d6c17",
   "metadata": {
    "scrolled": true
   },
   "outputs": [
    {
     "name": "stdout",
     "output_type": "stream",
     "text": [
      "               name   latitude  longitude\n",
      "0   kbyJYJzqEVkEmpc  13.022860  77.688911\n",
      "1   qbgufTPzZEkxNHV  13.093675  77.702779\n",
      "2   XWIXkuyDacCmsaE  12.902879  77.633207\n",
      "3  PWMPzEhgQSIJFtLl  12.864532  77.731435\n",
      "4   PWMPzEhgQSIJFtL  12.865321  77.731473\n"
     ]
    }
   ],
   "source": [
    "print(df.head())"
   ]
  },
  {
   "cell_type": "code",
   "execution_count": 4,
   "id": "4824598a",
   "metadata": {},
   "outputs": [
    {
     "name": "stdout",
     "output_type": "stream",
     "text": [
      "(11814, 3)\n"
     ]
    }
   ],
   "source": [
    "print(df.shape)"
   ]
  },
  {
   "cell_type": "markdown",
   "id": "7dd092db",
   "metadata": {},
   "source": [
    "### 2.Inserting the another column for output"
   ]
  },
  {
   "cell_type": "code",
   "execution_count": 5,
   "id": "7c22e7d4",
   "metadata": {},
   "outputs": [],
   "source": [
    "df.insert(3,\"is_similar\",0)"
   ]
  },
  {
   "cell_type": "markdown",
   "id": "f3a0081c",
   "metadata": {},
   "source": [
    "### 3.Claculating Haversine formula to calculate distance between two coordinates"
   ]
  },
  {
   "cell_type": "code",
   "execution_count": 6,
   "id": "208f1771",
   "metadata": {},
   "outputs": [],
   "source": [
    "from Levenshtein import distance\n",
    "\n",
    "# Haversine formula to compute distance between two points on Earth\n",
    "def haversine(lat1, lon1, lat2, lon2):\n",
    "    R = 6371000  # radius of Earth in meters\n",
    "    phi1, phi2 = radians(lat1), radians(lat2)\n",
    "    delta_phi = radians(lat2 - lat1)\n",
    "    delta_lambda = radians(lon2 - lon1)\n",
    "\n",
    "    a = sin(delta_phi / 2) ** 2 + cos(phi1) * cos(phi2) * sin(delta_lambda / 2) ** 2\n",
    "    c = 2 * atan2(sqrt(a), sqrt(1 - a))\n",
    "\n",
    "    return R * c\n"
   ]
  },
  {
   "cell_type": "markdown",
   "id": "cf46806d",
   "metadata": {},
   "source": [
    "### 4.Finding coordinates i.e matching different coordinates"
   ]
  },
  {
   "cell_type": "code",
   "execution_count": 7,
   "id": "5e73c085",
   "metadata": {},
   "outputs": [
    {
     "name": "stdout",
     "output_type": "stream",
     "text": [
      "                   name   latitude  longitude  is_similar\n",
      "0       kbyJYJzqEVkEmpc  13.022860  77.688911           0\n",
      "1       qbgufTPzZEkxNHV  13.093675  77.702779           0\n",
      "2       XWIXkuyDacCmsaE  12.902879  77.633207           0\n",
      "3      PWMPzEhgQSIJFtLl  12.864532  77.731435           1\n",
      "4       PWMPzEhgQSIJFtL  12.865321  77.731473           1\n",
      "...                 ...        ...        ...         ...\n",
      "11809   OtytDvqWIjeFdAt  12.864681  77.561012           0\n",
      "11810  PGHxYVTKBPvJzRcr  12.878795  77.549211           1\n",
      "11811   PGHxYVTKBPvJzRc  12.879561  77.549147           1\n",
      "11812   KlOFLLHNAvTQOkU  13.061351  77.661640           0\n",
      "11813   BKEsZzrJiKhKIae  13.019981  77.679988           0\n",
      "\n",
      "[11814 rows x 4 columns]\n"
     ]
    }
   ],
   "source": [
    "\n",
    "\n",
    "\n",
    "\n",
    "# Find potential matches\n",
    "matches = []\n",
    "for i in range(len(df)):\n",
    "    for j in range(i+1, len(df)):\n",
    "        if haversine(df['latitude'][i], df['longitude'][i], df['latitude'][j], df['longitude'][j]) <= 200:\n",
    "            if distance(df['name'][i], df['name'][j]) <= 5:\n",
    "                matches.append((i, j))\n",
    "\n",
    "# Add a column to the DataFrame indicating if each row is part of a match\n",
    "df['is_similar'] = 0\n",
    "for i, j in matches:\n",
    "    df.loc[i, 'is_similar'] = 1\n",
    "    df.loc[j, 'is_similar'] = 1\n",
    "\n",
    "# Output the matches\n",
    "print(df)"
   ]
  },
  {
   "cell_type": "markdown",
   "id": "00f55171",
   "metadata": {},
   "source": [
    "### 5.Output file"
   ]
  },
  {
   "cell_type": "code",
   "execution_count": 8,
   "id": "77b185c6",
   "metadata": {},
   "outputs": [],
   "source": [
    "df.to_csv('output.csv', index=False)"
   ]
  },
  {
   "cell_type": "code",
   "execution_count": null,
   "id": "7a7ac5ff",
   "metadata": {},
   "outputs": [],
   "source": []
  },
  {
   "cell_type": "code",
   "execution_count": null,
   "id": "40c96693",
   "metadata": {},
   "outputs": [],
   "source": []
  }
 ],
 "metadata": {
  "kernelspec": {
   "display_name": "Python 3 (ipykernel)",
   "language": "python",
   "name": "python3"
  },
  "language_info": {
   "codemirror_mode": {
    "name": "ipython",
    "version": 3
   },
   "file_extension": ".py",
   "mimetype": "text/x-python",
   "name": "python",
   "nbconvert_exporter": "python",
   "pygments_lexer": "ipython3",
   "version": "3.9.13"
  }
 },
 "nbformat": 4,
 "nbformat_minor": 5
}
